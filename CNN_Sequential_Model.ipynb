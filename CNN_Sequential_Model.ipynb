{
  "metadata": {
    "kernelspec": {
      "language": "python",
      "display_name": "Python 3",
      "name": "python3"
    },
    "language_info": {
      "pygments_lexer": "ipython3",
      "nbconvert_exporter": "python",
      "version": "3.6.4",
      "file_extension": ".py",
      "codemirror_mode": {
        "name": "ipython",
        "version": 3
      },
      "name": "python",
      "mimetype": "text/x-python"
    },
    "colab": {
      "provenance": []
    }
  },
  "nbformat_minor": 0,
  "nbformat": 4,
  "cells": [
    {
      "cell_type": "markdown",
      "source": [
        "## Facial Emotion Expression Recognization using CNN Sequential Model"
      ],
      "metadata": {
        "id": "Os16JL9Bymxc"
      }
    },
    {
      "cell_type": "markdown",
      "source": [
        "Done By\n",
        "\n",
        "Venkata Sai Anirudh Vinjamuri - 032170981\n",
        "\n",
        "Vyshnavi Mandadi - 032161660"
      ],
      "metadata": {
        "id": "S8nF8nhMyyj3"
      }
    },
    {
      "cell_type": "markdown",
      "source": [
        "Import the dataset from the /kaggle/input"
      ],
      "metadata": {
        "id": "VSTT-BlYy_QV"
      }
    },
    {
      "source": [
        "import os\n",
        "import sys\n",
        "from tempfile import NamedTemporaryFile\n",
        "from urllib.request import urlopen\n",
        "from urllib.parse import unquote, urlparse\n",
        "from urllib.error import HTTPError\n",
        "from zipfile import ZipFile\n",
        "import tarfile\n",
        "import shutil\n",
        "\n",
        "CHUNK_SIZE = 40960\n",
        "DATA_SOURCE_MAPPING = 'haar-cascades-for-face-detection:https%3A%2F%2Fstorage.googleapis.com%2Fkaggle-data-sets%2F452468%2F854304%2Fbundle%2Farchive.zip%3FX-Goog-Algorithm%3DGOOG4-RSA-SHA256%26X-Goog-Credential%3Dgcp-kaggle-com%2540kaggle-161607.iam.gserviceaccount.com%252F20240515%252Fauto%252Fstorage%252Fgoog4_request%26X-Goog-Date%3D20240515T165747Z%26X-Goog-Expires%3D259200%26X-Goog-SignedHeaders%3Dhost%26X-Goog-Signature%3D88ec33b29972c4640bf42126c64c8c975c294553ab7293dc913187e89c0a1da6fdd100582e4af98b36becf61b062e3673771cde75f4261d0e5ca22a06e5e13d1691748c397563f019104853bbe8b24a14e68fd459f397f54f512983b4f5ffd1b662c8c250e359eedf1995b0f79502d8e7b4afcded22e5393904470b50c8728f61d31a4cda31b07dd80779a22394e79801532ab10b55d8a5e9ed5543dc1cd0a2bf1c90ddacee9791adef078918d058f1f5ef102119a681fe30c0c850adcb2a868226ebb29cf8361007bfa729ac3b611d393aec2cb5e47449aa371d7499d4df8512203e9fa9d1d7f1f3ce31f1b7fb31dd9cc4a287fc7c8e9f1e2ac9820ba8d2ce2,fer2013:https%3A%2F%2Fstorage.googleapis.com%2Fkaggle-data-sets%2F786787%2F1351797%2Fbundle%2Farchive.zip%3FX-Goog-Algorithm%3DGOOG4-RSA-SHA256%26X-Goog-Credential%3Dgcp-kaggle-com%2540kaggle-161607.iam.gserviceaccount.com%252F20240515%252Fauto%252Fstorage%252Fgoog4_request%26X-Goog-Date%3D20240515T165747Z%26X-Goog-Expires%3D259200%26X-Goog-SignedHeaders%3Dhost%26X-Goog-Signature%3D1ad30ef0109de6a9cf1f9c64f54ec1028b76e3922affb450685253cf9f318474906d0809b85d6b2ffeec5e85e14d5d9390deb741662ba6d31da66f171a317ed5b892e8a0aec493da7818f69c76f94f137fc2898e6599c08e05ddce4305ec111f9af45059b70862f78351a48a4fb8c1984879e58fa0aeef37bf6500c8c72deb24e08088736538ceedf4a3afc44de5b5a1ab783a98e955fe20b2c5e769b0285e0a7a9836dfcc825208ced55b5c264aab49ad59f050b5711cc11458654c63767e624fe46fdd4f42f3c81c9c470b21903ec20263faaf9dfc1a7ec3d984c4edf1f6b5232b63d980e0a300dc2d60a2da24ab7be5135b5f67b927dc954c3be6e6c9e17d'\n",
        "\n",
        "KAGGLE_INPUT_PATH='/kaggle/input'\n",
        "KAGGLE_WORKING_PATH='/kaggle/working'\n",
        "KAGGLE_SYMLINK='kaggle'\n",
        "\n",
        "!umount /kaggle/input/ 2> /dev/null\n",
        "shutil.rmtree('/kaggle/input', ignore_errors=True)\n",
        "os.makedirs(KAGGLE_INPUT_PATH, 0o777, exist_ok=True)\n",
        "os.makedirs(KAGGLE_WORKING_PATH, 0o777, exist_ok=True)\n",
        "\n",
        "try:\n",
        "  os.symlink(KAGGLE_INPUT_PATH, os.path.join(\"..\", 'input'), target_is_directory=True)\n",
        "except FileExistsError:\n",
        "  pass\n",
        "try:\n",
        "  os.symlink(KAGGLE_WORKING_PATH, os.path.join(\"..\", 'working'), target_is_directory=True)\n",
        "except FileExistsError:\n",
        "  pass\n",
        "\n",
        "for data_source_mapping in DATA_SOURCE_MAPPING.split(','):\n",
        "    directory, download_url_encoded = data_source_mapping.split(':')\n",
        "    download_url = unquote(download_url_encoded)\n",
        "    filename = urlparse(download_url).path\n",
        "    destination_path = os.path.join(KAGGLE_INPUT_PATH, directory)\n",
        "    try:\n",
        "        with urlopen(download_url) as fileres, NamedTemporaryFile() as tfile:\n",
        "            total_length = fileres.headers['content-length']\n",
        "            print(f'Downloading {directory}, {total_length} bytes compressed')\n",
        "            dl = 0\n",
        "            data = fileres.read(CHUNK_SIZE)\n",
        "            while len(data) > 0:\n",
        "                dl += len(data)\n",
        "                tfile.write(data)\n",
        "                done = int(50 * dl / int(total_length))\n",
        "                sys.stdout.write(f\"\\r[{'=' * done}{' ' * (50-done)}] {dl} bytes downloaded\")\n",
        "                sys.stdout.flush()\n",
        "                data = fileres.read(CHUNK_SIZE)\n",
        "            if filename.endswith('.zip'):\n",
        "              with ZipFile(tfile) as zfile:\n",
        "                zfile.extractall(destination_path)\n",
        "            else:\n",
        "              with tarfile.open(tfile.name) as tarfile:\n",
        "                tarfile.extractall(destination_path)\n",
        "            print(f'\\nDownloaded and uncompressed: {directory}')\n",
        "    except HTTPError as e:\n",
        "        print(f'Failed to load (likely expired) {download_url} to path {destination_path}')\n",
        "        continue\n",
        "    except OSError as e:\n",
        "        print(f'Failed to load {download_url} to path {destination_path}')\n",
        "        continue\n",
        "\n",
        "print('Data source import complete.')\n"
      ],
      "metadata": {
        "id": "-7Oy3CNbMFMc",
        "colab": {
          "base_uri": "https://localhost:8080/"
        },
        "outputId": "396e62c3-847e-471d-ce1f-cee19fcea227"
      },
      "cell_type": "code",
      "outputs": [
        {
          "output_type": "stream",
          "name": "stdout",
          "text": [
            "Downloading haar-cascades-for-face-detection, 1250608 bytes compressed\n",
            "[==================================================] 1250608 bytes downloaded\n",
            "Downloaded and uncompressed: haar-cascades-for-face-detection\n",
            "Downloading fer2013, 63252113 bytes compressed\n",
            "[==================================================] 63252113 bytes downloaded\n",
            "Downloaded and uncompressed: fer2013\n",
            "Data source import complete.\n"
          ]
        }
      ],
      "execution_count": 57
    },
    {
      "cell_type": "code",
      "source": [
        "import os\n",
        "import random\n",
        "import shutil"
      ],
      "metadata": {
        "execution": {
          "iopub.status.busy": "2023-03-03T18:58:35.111595Z",
          "iopub.execute_input": "2023-03-03T18:58:35.112499Z",
          "iopub.status.idle": "2023-03-03T18:58:35.117947Z",
          "shell.execute_reply.started": "2023-03-03T18:58:35.11245Z",
          "shell.execute_reply": "2023-03-03T18:58:35.116527Z"
        },
        "trusted": true,
        "id": "JpByXxw_MFMh"
      },
      "execution_count": 58,
      "outputs": []
    },
    {
      "cell_type": "code",
      "source": [
        "import numpy as np\n",
        "import cv2 as cv\n",
        "import pandas as pd\n",
        "import matplotlib.pyplot as plt\n",
        "import tensorflow as tf\n",
        "import keras as kr"
      ],
      "metadata": {
        "execution": {
          "iopub.status.busy": "2023-03-03T18:45:01.126294Z",
          "iopub.execute_input": "2023-03-03T18:45:01.126578Z",
          "iopub.status.idle": "2023-03-03T18:45:09.168149Z",
          "shell.execute_reply.started": "2023-03-03T18:45:01.126551Z",
          "shell.execute_reply": "2023-03-03T18:45:09.167046Z"
        },
        "trusted": true,
        "id": "ROnB40OcMFMh"
      },
      "execution_count": 59,
      "outputs": []
    },
    {
      "cell_type": "code",
      "source": [
        "from tensorflow.keras.models import Sequential\n",
        "from tensorflow.keras.layers import Conv2D,MaxPooling2D,Dense,Dropout,BatchNormalization,Flatten,AveragePooling2D\n",
        "from tensorflow.keras.optimizers import Adam,RMSprop\n",
        "from tensorflow.keras.preprocessing.image import ImageDataGenerator\n",
        "from tensorflow.keras.utils import to_categorical"
      ],
      "metadata": {
        "execution": {
          "iopub.status.busy": "2023-03-03T18:45:09.170615Z",
          "iopub.execute_input": "2023-03-03T18:45:09.171774Z",
          "iopub.status.idle": "2023-03-03T18:45:09.180134Z",
          "shell.execute_reply.started": "2023-03-03T18:45:09.171731Z",
          "shell.execute_reply": "2023-03-03T18:45:09.179192Z"
        },
        "trusted": true,
        "id": "99RWP8ZwMFMh"
      },
      "execution_count": 60,
      "outputs": []
    },
    {
      "cell_type": "code",
      "source": [
        "from IPython.display import HTML\n",
        "import matplotlib.animation as animation"
      ],
      "metadata": {
        "execution": {
          "iopub.status.busy": "2023-03-03T19:01:48.236975Z",
          "iopub.execute_input": "2023-03-03T19:01:48.23809Z",
          "iopub.status.idle": "2023-03-03T19:01:48.247158Z",
          "shell.execute_reply.started": "2023-03-03T19:01:48.238046Z",
          "shell.execute_reply": "2023-03-03T19:01:48.246047Z"
        },
        "trusted": true,
        "id": "wG0PP5WNMFMh"
      },
      "execution_count": 61,
      "outputs": []
    },
    {
      "cell_type": "markdown",
      "source": [
        "# Data Path Process"
      ],
      "metadata": {
        "id": "fuyifjQQMFMi"
      }
    },
    {
      "cell_type": "code",
      "source": [
        "train_path = \"/kaggle/input/fer2013/train\"\n",
        "test_path = \"/kaggle/input/fer2013/test\""
      ],
      "metadata": {
        "execution": {
          "iopub.status.busy": "2023-03-03T18:45:09.193423Z",
          "iopub.execute_input": "2023-03-03T18:45:09.193782Z",
          "iopub.status.idle": "2023-03-03T18:45:09.201965Z",
          "shell.execute_reply.started": "2023-03-03T18:45:09.193747Z",
          "shell.execute_reply": "2023-03-03T18:45:09.200991Z"
        },
        "trusted": true,
        "id": "5z26rEofMFMi"
      },
      "execution_count": 62,
      "outputs": []
    },
    {
      "cell_type": "code",
      "source": [
        "name_list = [\"ANGRY\",\"DISGUST\",\"FEAR\",\"HAPPY\",\"NEUTRAL\",\"SAD\",\"SURPRISE\"]"
      ],
      "metadata": {
        "execution": {
          "iopub.status.busy": "2023-03-03T18:45:09.204461Z",
          "iopub.execute_input": "2023-03-03T18:45:09.20585Z",
          "iopub.status.idle": "2023-03-03T18:45:09.211935Z",
          "shell.execute_reply.started": "2023-03-03T18:45:09.205815Z",
          "shell.execute_reply": "2023-03-03T18:45:09.211019Z"
        },
        "trusted": true,
        "id": "6PXEmYrtMFMi"
      },
      "execution_count": 63,
      "outputs": []
    },
    {
      "cell_type": "code",
      "source": [
        "angry = []\n",
        "disgust = []\n",
        "fear = []\n",
        "happy = []\n",
        "neutral = []\n",
        "sad = []\n",
        "surprise = []"
      ],
      "metadata": {
        "execution": {
          "iopub.status.busy": "2023-03-03T18:45:09.213382Z",
          "iopub.execute_input": "2023-03-03T18:45:09.214475Z",
          "iopub.status.idle": "2023-03-03T18:45:09.223416Z",
          "shell.execute_reply.started": "2023-03-03T18:45:09.21444Z",
          "shell.execute_reply": "2023-03-03T18:45:09.22251Z"
        },
        "trusted": true,
        "id": "N7uD9jR-MFMj"
      },
      "execution_count": 64,
      "outputs": []
    },
    {
      "cell_type": "code",
      "source": [
        "data_list = []"
      ],
      "metadata": {
        "execution": {
          "iopub.status.busy": "2023-03-03T18:45:09.224784Z",
          "iopub.execute_input": "2023-03-03T18:45:09.225665Z",
          "iopub.status.idle": "2023-03-03T18:45:09.23326Z",
          "shell.execute_reply.started": "2023-03-03T18:45:09.225624Z",
          "shell.execute_reply": "2023-03-03T18:45:09.232266Z"
        },
        "trusted": true,
        "id": "tHL89K7dMFMj"
      },
      "execution_count": 65,
      "outputs": []
    },
    {
      "cell_type": "code",
      "source": [
        "for r,d,f in os.walk(train_path,topdown=False):\n",
        "    if \"angry\" in r:\n",
        "        for x_name in f:\n",
        "            angry.append(os.path.join(r,x_name))\n",
        "            data_list.append((os.path.join(r,x_name),0))\n",
        "    elif \"disgust\" in r:\n",
        "        for x_name in f:\n",
        "            disgust.append(os.path.join(r,x_name))\n",
        "            data_list.append((os.path.join(r,x_name),1))\n",
        "    elif \"fear\" in r:\n",
        "        for x_name in f:\n",
        "            fear.append(os.path.join(r,x_name))\n",
        "            data_list.append((os.path.join(r,x_name),2))\n",
        "    elif \"happy\" in r:\n",
        "        for x_name in f:\n",
        "            happy.append(os.path.join(r,x_name))\n",
        "            data_list.append((os.path.join(r,x_name),3))\n",
        "    elif \"neutral\" in r:\n",
        "        for x_name in f:\n",
        "            neutral.append(os.path.join(r,x_name))\n",
        "            data_list.append((os.path.join(r,x_name),4))\n",
        "    elif \"sad\" in r:\n",
        "        for x_name in f:\n",
        "            sad.append(os.path.join(r,x_name))\n",
        "            data_list.append((os.path.join(r,x_name),5))\n",
        "    elif \"surprise\" in r:\n",
        "        for x_name in f:\n",
        "            surprise.append(os.path.join(r,x_name))\n",
        "            data_list.append((os.path.join(r,x_name),6))\n",
        "    else:\n",
        "        pass\n",
        "\n",
        "print(\"[+] DONE - SUCCESS\")"
      ],
      "metadata": {
        "_kg_hide-input": true,
        "jupyter": {
          "source_hidden": true
        },
        "execution": {
          "iopub.status.busy": "2023-03-03T18:45:09.23462Z",
          "iopub.execute_input": "2023-03-03T18:45:09.235536Z",
          "iopub.status.idle": "2023-03-03T18:45:17.668138Z",
          "shell.execute_reply.started": "2023-03-03T18:45:09.235402Z",
          "shell.execute_reply": "2023-03-03T18:45:17.666937Z"
        },
        "trusted": true,
        "id": "MfsRUiTJMFMj",
        "colab": {
          "base_uri": "https://localhost:8080/"
        },
        "outputId": "437d9945-a381-4fee-c1df-b6edf9178220"
      },
      "execution_count": 66,
      "outputs": [
        {
          "output_type": "stream",
          "name": "stdout",
          "text": [
            "[+] DONE - SUCCESS\n"
          ]
        }
      ]
    },
    {
      "cell_type": "code",
      "source": [
        "full_list = [angry,disgust,fear,happy,neutral,sad,surprise]"
      ],
      "metadata": {
        "execution": {
          "iopub.status.busy": "2023-03-03T18:45:17.669678Z",
          "iopub.execute_input": "2023-03-03T18:45:17.670037Z",
          "iopub.status.idle": "2023-03-03T18:45:17.675923Z",
          "shell.execute_reply.started": "2023-03-03T18:45:17.67Z",
          "shell.execute_reply": "2023-03-03T18:45:17.674518Z"
        },
        "trusted": true,
        "id": "Wq9O7H46MFMj"
      },
      "execution_count": 67,
      "outputs": []
    },
    {
      "cell_type": "code",
      "source": [
        "for x_n,x_l in zip(name_list,full_list):\n",
        "    print(f\"LEN OF {x_n} FILE: {len(x_l)}\")"
      ],
      "metadata": {
        "execution": {
          "iopub.status.busy": "2023-03-03T18:45:17.680697Z",
          "iopub.execute_input": "2023-03-03T18:45:17.681481Z",
          "iopub.status.idle": "2023-03-03T18:45:17.690334Z",
          "shell.execute_reply.started": "2023-03-03T18:45:17.681443Z",
          "shell.execute_reply": "2023-03-03T18:45:17.689176Z"
        },
        "trusted": true,
        "id": "EYG8k0xpMFMj",
        "colab": {
          "base_uri": "https://localhost:8080/"
        },
        "outputId": "43d70908-65f4-4ee7-8920-4435ea691559"
      },
      "execution_count": 68,
      "outputs": [
        {
          "output_type": "stream",
          "name": "stdout",
          "text": [
            "LEN OF ANGRY FILE: 3995\n",
            "LEN OF DISGUST FILE: 436\n",
            "LEN OF FEAR FILE: 4097\n",
            "LEN OF HAPPY FILE: 7215\n",
            "LEN OF NEUTRAL FILE: 4965\n",
            "LEN OF SAD FILE: 4830\n",
            "LEN OF SURPRISE FILE: 3171\n"
          ]
        }
      ]
    },
    {
      "cell_type": "code",
      "source": [
        "print(f\"TOTAL DATA LEN: {len(data_list)}\")"
      ],
      "metadata": {
        "execution": {
          "iopub.status.busy": "2023-03-03T18:45:17.692077Z",
          "iopub.execute_input": "2023-03-03T18:45:17.692528Z",
          "iopub.status.idle": "2023-03-03T18:45:17.7022Z",
          "shell.execute_reply.started": "2023-03-03T18:45:17.69248Z",
          "shell.execute_reply": "2023-03-03T18:45:17.701198Z"
        },
        "trusted": true,
        "id": "n7-u6qg4MFMj",
        "colab": {
          "base_uri": "https://localhost:8080/"
        },
        "outputId": "14e39d73-c964-40ac-846c-0f08615e228d"
      },
      "execution_count": 69,
      "outputs": [
        {
          "output_type": "stream",
          "name": "stdout",
          "text": [
            "TOTAL DATA LEN: 28709\n"
          ]
        }
      ]
    },
    {
      "cell_type": "code",
      "source": [
        "random.shuffle(data_list)"
      ],
      "metadata": {
        "execution": {
          "iopub.status.busy": "2023-03-03T18:45:17.705746Z",
          "iopub.execute_input": "2023-03-03T18:45:17.706181Z",
          "iopub.status.idle": "2023-03-03T18:45:17.736435Z",
          "shell.execute_reply.started": "2023-03-03T18:45:17.706106Z",
          "shell.execute_reply": "2023-03-03T18:45:17.735497Z"
        },
        "trusted": true,
        "id": "wDQG83I9MFMj"
      },
      "execution_count": 70,
      "outputs": []
    },
    {
      "cell_type": "code",
      "source": [
        "path_all = []\n",
        "class_all = []\n",
        "for x_cnt in range(len(data_list)):\n",
        "    path_all.append(data_list[x_cnt][0])\n",
        "    class_all.append(data_list[x_cnt][1])"
      ],
      "metadata": {
        "execution": {
          "iopub.status.busy": "2023-03-03T18:45:17.737856Z",
          "iopub.execute_input": "2023-03-03T18:45:17.738221Z",
          "iopub.status.idle": "2023-03-03T18:45:17.758584Z",
          "shell.execute_reply.started": "2023-03-03T18:45:17.738187Z",
          "shell.execute_reply": "2023-03-03T18:45:17.757516Z"
        },
        "trusted": true,
        "id": "z5iLENJlMFMk"
      },
      "execution_count": 71,
      "outputs": []
    },
    {
      "cell_type": "code",
      "source": [
        "pt_series = pd.Series(path_all,name=\"PATH\")\n",
        "cl_series = pd.Series(class_all,name=\"CLASS\")"
      ],
      "metadata": {
        "execution": {
          "iopub.status.busy": "2023-03-03T18:45:17.76016Z",
          "iopub.execute_input": "2023-03-03T18:45:17.760759Z",
          "iopub.status.idle": "2023-03-03T18:45:17.779489Z",
          "shell.execute_reply.started": "2023-03-03T18:45:17.760723Z",
          "shell.execute_reply": "2023-03-03T18:45:17.778471Z"
        },
        "trusted": true,
        "id": "5585vcNHMFMk"
      },
      "execution_count": 72,
      "outputs": []
    },
    {
      "cell_type": "code",
      "source": [
        "dataframe = pd.concat([pt_series,cl_series],axis=1)"
      ],
      "metadata": {
        "execution": {
          "iopub.status.busy": "2023-03-03T18:45:17.781116Z",
          "iopub.execute_input": "2023-03-03T18:45:17.781488Z",
          "iopub.status.idle": "2023-03-03T18:45:17.792311Z",
          "shell.execute_reply.started": "2023-03-03T18:45:17.781451Z",
          "shell.execute_reply": "2023-03-03T18:45:17.791196Z"
        },
        "trusted": true,
        "id": "tMv_RTNvMFMk"
      },
      "execution_count": 73,
      "outputs": []
    },
    {
      "cell_type": "code",
      "source": [
        "print(f\"UNIQUE TARGETS: {np.unique(dataframe.CLASS.values)}\")"
      ],
      "metadata": {
        "execution": {
          "iopub.status.busy": "2023-03-03T18:45:17.794304Z",
          "iopub.execute_input": "2023-03-03T18:45:17.794724Z",
          "iopub.status.idle": "2023-03-03T18:45:17.810189Z",
          "shell.execute_reply.started": "2023-03-03T18:45:17.794688Z",
          "shell.execute_reply": "2023-03-03T18:45:17.808936Z"
        },
        "trusted": true,
        "id": "OrBFEjzyMFMk",
        "colab": {
          "base_uri": "https://localhost:8080/"
        },
        "outputId": "3d4375e1-d195-4407-eb17-d2ea8b18658a"
      },
      "execution_count": 74,
      "outputs": [
        {
          "output_type": "stream",
          "name": "stdout",
          "text": [
            "UNIQUE TARGETS: [0 1 2 3 4 5 6]\n"
          ]
        }
      ]
    },
    {
      "cell_type": "markdown",
      "source": [
        "# Image and Parameter Control"
      ],
      "metadata": {
        "id": "E8czcpYpMFMk"
      }
    },
    {
      "cell_type": "code",
      "source": [
        "plt.figure(figsize=(15,25))\n",
        "i_c = 1\n",
        "for x_path in range(len(dataframe.PATH.values)):\n",
        "    plt.subplot(1,7,i_c)\n",
        "    img = cv.cvtColor(cv.imread(dataframe.PATH[x_path*50]),cv.COLOR_BGR2RGB)\n",
        "    plt.axis(\"off\")\n",
        "    plt.title(f\"CONTROL CLASS: {dataframe.CLASS[x_path*50]}\")\n",
        "    plt.imshow(img)\n",
        "    if i_c == 7:\n",
        "        break\n",
        "    i_c += 1\n",
        "plt.tight_layout()\n",
        "plt.show()"
      ],
      "metadata": {
        "_kg_hide-input": true,
        "execution": {
          "iopub.status.busy": "2023-03-03T18:45:18.53531Z",
          "iopub.execute_input": "2023-03-03T18:45:18.53643Z",
          "iopub.status.idle": "2023-03-03T18:45:18.92924Z",
          "shell.execute_reply.started": "2023-03-03T18:45:18.536389Z",
          "shell.execute_reply": "2023-03-03T18:45:18.927977Z"
        },
        "trusted": true,
        "id": "4DYzGAv7MFMk",
        "colab": {
          "base_uri": "https://localhost:8080/",
          "height": 228
        },
        "outputId": "5362b079-276b-4872-bd65-03557a9e0099"
      },
      "execution_count": 78,
      "outputs": [
        {
          "output_type": "display_data",
          "data": {
            "text/plain": [
              "<Figure size 1500x2500 with 7 Axes>"
            ],
            "image/png": "[encoded data removed]"
          },
          "metadata": {}
        }
      ]
    },
    {
      "cell_type": "markdown",
      "source": [
        "# Before Training"
      ],
      "metadata": {
        "id": "k23pVVOGMFMk"
      }
    },
    {
      "cell_type": "code",
      "source": [
        "def convert_process(lm:list,ls:list,dt:classmethod,pr:str,tr:str)->RESULTS:\n",
        "    for x_path in range(len(dt[pr].values)):\n",
        "        img = cv.cvtColor(cv.imread(dt[pr][x_path]),cv.COLOR_BGR2GRAY)\n",
        "        trg = dt[tr][x_path]\n",
        "        img = img.reshape(img.shape[0],img.shape[1])\n",
        "        img = img / 255.\n",
        "        lm.append(img)\n",
        "        ls.append(trg)"
      ],
      "metadata": {
        "execution": {
          "iopub.status.busy": "2023-03-03T18:45:18.931111Z",
          "iopub.execute_input": "2023-03-03T18:45:18.931826Z",
          "iopub.status.idle": "2023-03-03T18:45:18.940285Z",
          "shell.execute_reply.started": "2023-03-03T18:45:18.931787Z",
          "shell.execute_reply": "2023-03-03T18:45:18.938893Z"
        },
        "trusted": true,
        "id": "Fja-QJ0SMFMk"
      },
      "execution_count": 79,
      "outputs": []
    },
    {
      "cell_type": "code",
      "source": [
        "data_image = []\n",
        "target_image = []\n",
        "convert_process(data_image,target_image,dataframe,\"PATH\",\"CLASS\")"
      ],
      "metadata": {
        "execution": {
          "iopub.status.busy": "2023-03-03T18:45:18.944959Z",
          "iopub.execute_input": "2023-03-03T18:45:18.94615Z",
          "iopub.status.idle": "2023-03-03T18:47:40.412286Z",
          "shell.execute_reply.started": "2023-03-03T18:45:18.946093Z",
          "shell.execute_reply": "2023-03-03T18:47:40.411232Z"
        },
        "trusted": true,
        "id": "QNu3k5FRMFMk"
      },
      "execution_count": 80,
      "outputs": []
    },
    {
      "cell_type": "code",
      "source": [
        "print(f\"TOTAL LEN OF DATA: {len(data_image)}\")\n",
        "print(f\"TOTAL LEN OF TARGET CLASS: {len(target_image)}\")"
      ],
      "metadata": {
        "execution": {
          "iopub.status.busy": "2023-03-03T18:47:40.414974Z",
          "iopub.execute_input": "2023-03-03T18:47:40.415754Z",
          "iopub.status.idle": "2023-03-03T18:47:40.421899Z",
          "shell.execute_reply.started": "2023-03-03T18:47:40.41571Z",
          "shell.execute_reply": "2023-03-03T18:47:40.420839Z"
        },
        "trusted": true,
        "id": "63g7FnjzMFMk",
        "colab": {
          "base_uri": "https://localhost:8080/"
        },
        "outputId": "66981706-74f8-4571-b1af-f6c3e2cd5db4"
      },
      "execution_count": 81,
      "outputs": [
        {
          "output_type": "stream",
          "name": "stdout",
          "text": [
            "TOTAL LEN OF DATA: 28709\n",
            "TOTAL LEN OF TARGET CLASS: 28709\n"
          ]
        }
      ]
    },
    {
      "cell_type": "code",
      "source": [
        "data_array = np.array(data_image)\n",
        "target_array = np.array(target_image)"
      ],
      "metadata": {
        "execution": {
          "iopub.status.busy": "2023-03-03T18:47:40.423614Z",
          "iopub.execute_input": "2023-03-03T18:47:40.423958Z",
          "iopub.status.idle": "2023-03-03T18:47:40.59952Z",
          "shell.execute_reply.started": "2023-03-03T18:47:40.423923Z",
          "shell.execute_reply": "2023-03-03T18:47:40.598417Z"
        },
        "trusted": true,
        "id": "KcKdXntzMFMl"
      },
      "execution_count": 82,
      "outputs": []
    },
    {
      "cell_type": "code",
      "source": [
        "print(f\"DATA SHAPE: {data_array.shape}\")\n",
        "print(f\"TARGET SHAPE: {target_array.shape}\")"
      ],
      "metadata": {
        "execution": {
          "iopub.status.busy": "2023-03-03T18:47:40.600945Z",
          "iopub.execute_input": "2023-03-03T18:47:40.601332Z",
          "iopub.status.idle": "2023-03-03T18:47:40.608231Z",
          "shell.execute_reply.started": "2023-03-03T18:47:40.601293Z",
          "shell.execute_reply": "2023-03-03T18:47:40.607063Z"
        },
        "trusted": true,
        "id": "ksgOPmmsMFMl",
        "colab": {
          "base_uri": "https://localhost:8080/"
        },
        "outputId": "e52cd1a6-daf7-4e0f-946e-38e2768fc0fc"
      },
      "execution_count": 83,
      "outputs": [
        {
          "output_type": "stream",
          "name": "stdout",
          "text": [
            "DATA SHAPE: (28709, 48, 48)\n",
            "TARGET SHAPE: (28709,)\n"
          ]
        }
      ]
    },
    {
      "cell_type": "code",
      "source": [
        "val_data = data_array[data_array.shape[0]-2000:,:,:]\n",
        "val_target = target_array[target_array.shape[0]-2000:]"
      ],
      "metadata": {
        "execution": {
          "iopub.status.busy": "2023-03-03T18:47:40.609693Z",
          "iopub.execute_input": "2023-03-03T18:47:40.611564Z",
          "iopub.status.idle": "2023-03-03T18:47:40.617424Z",
          "shell.execute_reply.started": "2023-03-03T18:47:40.611536Z",
          "shell.execute_reply": "2023-03-03T18:47:40.616364Z"
        },
        "trusted": true,
        "id": "DSbdzN-1MFMl"
      },
      "execution_count": 84,
      "outputs": []
    },
    {
      "cell_type": "code",
      "source": [
        "data_array = data_array[0:data_array.shape[0]-2000,:,:]\n",
        "target_array = target_array[0:target_array.shape[0]-2000]"
      ],
      "metadata": {
        "execution": {
          "iopub.status.busy": "2023-03-03T18:47:40.61923Z",
          "iopub.execute_input": "2023-03-03T18:47:40.620165Z",
          "iopub.status.idle": "2023-03-03T18:47:40.627017Z",
          "shell.execute_reply.started": "2023-03-03T18:47:40.620126Z",
          "shell.execute_reply": "2023-03-03T18:47:40.62609Z"
        },
        "trusted": true,
        "id": "dJOIM75KMFMl"
      },
      "execution_count": 85,
      "outputs": []
    },
    {
      "cell_type": "code",
      "source": [
        "print(f\"VALIDATE DATA SHAPE: {val_data.shape}\")\n",
        "print(f\"VALIDATE TARGET SHAPE: {val_target.shape}\")"
      ],
      "metadata": {
        "execution": {
          "iopub.status.busy": "2023-03-03T18:47:40.636945Z",
          "iopub.execute_input": "2023-03-03T18:47:40.637232Z",
          "iopub.status.idle": "2023-03-03T18:47:40.642631Z",
          "shell.execute_reply.started": "2023-03-03T18:47:40.637207Z",
          "shell.execute_reply": "2023-03-03T18:47:40.641324Z"
        },
        "trusted": true,
        "id": "6ugf5xSEMFMl",
        "colab": {
          "base_uri": "https://localhost:8080/"
        },
        "outputId": "1021e3bb-f39d-4d86-b907-18550fc9d0d6"
      },
      "execution_count": 86,
      "outputs": [
        {
          "output_type": "stream",
          "name": "stdout",
          "text": [
            "VALIDATE DATA SHAPE: (2000, 48, 48)\n",
            "VALIDATE TARGET SHAPE: (2000,)\n"
          ]
        }
      ]
    },
    {
      "cell_type": "code",
      "source": [
        "print(f\"LAST DATA SHAPE: {data_array.shape}\")\n",
        "print(f\"LAST TARGET SHAPE: {target_array.shape}\")"
      ],
      "metadata": {
        "execution": {
          "iopub.status.busy": "2023-03-03T18:47:40.644142Z",
          "iopub.execute_input": "2023-03-03T18:47:40.644667Z",
          "iopub.status.idle": "2023-03-03T18:47:40.654762Z",
          "shell.execute_reply.started": "2023-03-03T18:47:40.644633Z",
          "shell.execute_reply": "2023-03-03T18:47:40.653662Z"
        },
        "trusted": true,
        "id": "5_NULXvTMFMl",
        "colab": {
          "base_uri": "https://localhost:8080/"
        },
        "outputId": "30d5033d-1191-44a1-f2c1-6967da4eb980"
      },
      "execution_count": 87,
      "outputs": [
        {
          "output_type": "stream",
          "name": "stdout",
          "text": [
            "LAST DATA SHAPE: (26709, 48, 48)\n",
            "LAST TARGET SHAPE: (26709,)\n"
          ]
        }
      ]
    },
    {
      "cell_type": "code",
      "source": [
        "mpath = \"modelcheckpoint\"\n",
        "if os.path.exists(mpath):\n",
        "    pass\n",
        "else:\n",
        "    os.mkdir(mpath)"
      ],
      "metadata": {
        "execution": {
          "iopub.status.busy": "2023-03-03T18:47:41.294798Z",
          "iopub.execute_input": "2023-03-03T18:47:41.297359Z",
          "iopub.status.idle": "2023-03-03T18:47:41.303834Z",
          "shell.execute_reply.started": "2023-03-03T18:47:41.297321Z",
          "shell.execute_reply": "2023-03-03T18:47:41.302716Z"
        },
        "trusted": true,
        "id": "nPvFNiSEMFMq"
      },
      "execution_count": 90,
      "outputs": []
    },
    {
      "cell_type": "code",
      "source": [
        "check = tf.keras.callbacks.ModelCheckpoint(filepath=mpath,\n",
        "                                          save_best_only=True,\n",
        "                                          verbose=1,\n",
        "                                          mode=\"min\",\n",
        "                                          monitor=\"val_accuracy\")"
      ],
      "metadata": {
        "execution": {
          "iopub.status.busy": "2023-03-03T18:47:41.308092Z",
          "iopub.execute_input": "2023-03-03T18:47:41.310815Z",
          "iopub.status.idle": "2023-03-03T18:47:41.319573Z",
          "shell.execute_reply.started": "2023-03-03T18:47:41.310772Z",
          "shell.execute_reply": "2023-03-03T18:47:41.317853Z"
        },
        "trusted": true,
        "id": "XZYqvNnfMFMq"
      },
      "execution_count": 91,
      "outputs": []
    },
    {
      "cell_type": "code",
      "source": [
        "val_target = to_categorical(val_target)\n",
        "target_array = to_categorical(target_array)"
      ],
      "metadata": {
        "execution": {
          "iopub.status.busy": "2023-03-03T18:47:41.321806Z",
          "iopub.execute_input": "2023-03-03T18:47:41.322193Z",
          "iopub.status.idle": "2023-03-03T18:47:41.334927Z",
          "shell.execute_reply.started": "2023-03-03T18:47:41.322157Z",
          "shell.execute_reply": "2023-03-03T18:47:41.333924Z"
        },
        "trusted": true,
        "id": "fNJMzqlmMFMq"
      },
      "execution_count": 92,
      "outputs": []
    },
    {
      "cell_type": "code",
      "source": [
        "print(f\"VALIDATE TARGET SHAPE: {val_target.shape}\")\n",
        "print(f\"DATA TARGET SHAPE: {target_array.shape}\")"
      ],
      "metadata": {
        "execution": {
          "iopub.status.busy": "2023-03-03T18:47:41.336124Z",
          "iopub.execute_input": "2023-03-03T18:47:41.337539Z",
          "iopub.status.idle": "2023-03-03T18:47:41.345754Z",
          "shell.execute_reply.started": "2023-03-03T18:47:41.337504Z",
          "shell.execute_reply": "2023-03-03T18:47:41.34468Z"
        },
        "trusted": true,
        "id": "EAq6eSrqMFMr",
        "colab": {
          "base_uri": "https://localhost:8080/"
        },
        "outputId": "aa924883-f022-4ed3-e087-dfd7d690a222"
      },
      "execution_count": 93,
      "outputs": [
        {
          "output_type": "stream",
          "name": "stdout",
          "text": [
            "VALIDATE TARGET SHAPE: (2000, 7)\n",
            "DATA TARGET SHAPE: (26709, 7)\n"
          ]
        }
      ]
    },
    {
      "cell_type": "markdown",
      "source": [
        "# Model - Implementation of LeNet"
      ],
      "metadata": {
        "id": "DYbtOzW6MFMr"
      }
    },
    {
      "cell_type": "code",
      "source": [
        "shape = data_array[0].shape\n",
        "print(f\"SHAPE OF INPUT: {shape}\")"
      ],
      "metadata": {
        "execution": {
          "iopub.status.busy": "2023-03-03T18:47:41.346815Z",
          "iopub.execute_input": "2023-03-03T18:47:41.348226Z",
          "iopub.status.idle": "2023-03-03T18:47:41.356747Z",
          "shell.execute_reply.started": "2023-03-03T18:47:41.34819Z",
          "shell.execute_reply": "2023-03-03T18:47:41.35552Z"
        },
        "trusted": true,
        "id": "dAhAzvQiMFMr",
        "colab": {
          "base_uri": "https://localhost:8080/"
        },
        "outputId": "08796a1a-45a5-4f8a-aa24-4b45a005e284"
      },
      "execution_count": 94,
      "outputs": [
        {
          "output_type": "stream",
          "name": "stdout",
          "text": [
            "SHAPE OF INPUT: (48, 48)\n"
          ]
        }
      ]
    },
    {
      "cell_type": "code",
      "source": [
        "def conv_add(md:classmethod,filters:int,kernelsize:tuple)->PARAMETERS:\n",
        "    md.add(Conv2D(filters=filters,\n",
        "                 kernel_size=kernelsize,\n",
        "                 padding=\"same\",\n",
        "                 activation=\"relu\"))\n",
        "    md.add(MaxPooling2D(pool_size=(2,2)))"
      ],
      "metadata": {
        "execution": {
          "iopub.status.busy": "2023-03-03T18:47:41.357836Z",
          "iopub.execute_input": "2023-03-03T18:47:41.359488Z",
          "iopub.status.idle": "2023-03-03T18:47:41.367942Z",
          "shell.execute_reply.started": "2023-03-03T18:47:41.359451Z",
          "shell.execute_reply": "2023-03-03T18:47:41.366143Z"
        },
        "trusted": true,
        "id": "MDfswaUGMFMr"
      },
      "execution_count": 95,
      "outputs": []
    },
    {
      "cell_type": "code",
      "source": [
        "def fully_connected(md:classmethod,ds:int,act:str)->PARAMETERS:\n",
        "    md.add(Dense(units=ds,activation=act))"
      ],
      "metadata": {
        "execution": {
          "iopub.status.busy": "2023-03-03T18:47:41.369373Z",
          "iopub.execute_input": "2023-03-03T18:47:41.370518Z",
          "iopub.status.idle": "2023-03-03T18:47:41.381054Z",
          "shell.execute_reply.started": "2023-03-03T18:47:41.370482Z",
          "shell.execute_reply": "2023-03-03T18:47:41.379292Z"
        },
        "trusted": true,
        "id": "zwTwjU4zMFMr"
      },
      "execution_count": 96,
      "outputs": []
    },
    {
      "cell_type": "code",
      "source": [
        "model = Sequential()\n",
        "model.add(Conv2D(filters=32,\n",
        "                 kernel_size=(5,5),\n",
        "                 padding=\"same\",\n",
        "                 activation=\"relu\",\n",
        "                 input_shape=(48,48,1)))\n",
        "conv_add(model,64,(2,2))\n",
        "model.add(BatchNormalization())\n",
        "conv_add(model,128,(2,2))\n",
        "model.add(Dropout(0.25))\n",
        "conv_add(model,256,(2,2))\n",
        "model.add(Dropout(0.25))\n",
        "model.add(Flatten())\n",
        "fully_connected(model,84,\"relu\")\n",
        "fully_connected(model,7,\"softmax\")"
      ],
      "metadata": {
        "execution": {
          "iopub.status.busy": "2023-03-03T18:47:41.382855Z",
          "iopub.execute_input": "2023-03-03T18:47:41.383672Z",
          "iopub.status.idle": "2023-03-03T18:47:44.432809Z",
          "shell.execute_reply.started": "2023-03-03T18:47:41.383628Z",
          "shell.execute_reply": "2023-03-03T18:47:44.431811Z"
        },
        "trusted": true,
        "id": "OXk-leoAMFMr"
      },
      "execution_count": 97,
      "outputs": []
    },
    {
      "cell_type": "code",
      "source": [
        "print(\"MODEL SUMMARY:\\n\\n\")\n",
        "print(model.summary())"
      ],
      "metadata": {
        "_kg_hide-input": true,
        "execution": {
          "iopub.status.busy": "2023-03-03T18:47:44.434465Z",
          "iopub.execute_input": "2023-03-03T18:47:44.434839Z",
          "iopub.status.idle": "2023-03-03T18:47:44.47492Z",
          "shell.execute_reply.started": "2023-03-03T18:47:44.434799Z",
          "shell.execute_reply": "2023-03-03T18:47:44.47418Z"
        },
        "trusted": true,
        "id": "aBjJUilQMFMr",
        "colab": {
          "base_uri": "https://localhost:8080/"
        },
        "outputId": "b689e222-9fc5-43fe-e20a-a8fe1b7ec74d"
      },
      "execution_count": 98,
      "outputs": [
        {
          "output_type": "stream",
          "name": "stdout",
          "text": [
            "MODEL SUMMARY:\n",
            "\n",
            "\n",
            "Model: \"sequential_1\"\n",
            "_________________________________________________________________\n",
            " Layer (type)                Output Shape              Param #   \n",
            "=================================================================\n",
            " conv2d_4 (Conv2D)           (None, 48, 48, 32)        832       \n",
            "                                                                 \n",
            " conv2d_5 (Conv2D)           (None, 48, 48, 64)        8256      \n",
            "                                                                 \n",
            " max_pooling2d_3 (MaxPoolin  (None, 24, 24, 64)        0         \n",
            " g2D)                                                            \n",
            "                                                                 \n",
            " batch_normalization_1 (Bat  (None, 24, 24, 64)        256       \n",
            " chNormalization)                                                \n",
            "                                                                 \n",
            " conv2d_6 (Conv2D)           (None, 24, 24, 128)       32896     \n",
            "                                                                 \n",
            " max_pooling2d_4 (MaxPoolin  (None, 12, 12, 128)       0         \n",
            " g2D)                                                            \n",
            "                                                                 \n",
            " dropout_2 (Dropout)         (None, 12, 12, 128)       0         \n",
            "                                                                 \n",
            " conv2d_7 (Conv2D)           (None, 12, 12, 256)       131328    \n",
            "                                                                 \n",
            " max_pooling2d_5 (MaxPoolin  (None, 6, 6, 256)         0         \n",
            " g2D)                                                            \n",
            "                                                                 \n",
            " dropout_3 (Dropout)         (None, 6, 6, 256)         0         \n",
            "                                                                 \n",
            " flatten_1 (Flatten)         (None, 9216)              0         \n",
            "                                                                 \n",
            " dense_2 (Dense)             (None, 84)                774228    \n",
            "                                                                 \n",
            " dense_3 (Dense)             (None, 7)                 595       \n",
            "                                                                 \n",
            "=================================================================\n",
            "Total params: 948391 (3.62 MB)\n",
            "Trainable params: 948263 (3.62 MB)\n",
            "Non-trainable params: 128 (512.00 Byte)\n",
            "_________________________________________________________________\n",
            "None\n"
          ]
        }
      ]
    },
    {
      "cell_type": "code",
      "source": [
        "model.compile(optimizer=Adam(),\n",
        "             loss=\"categorical_crossentropy\",\n",
        "             metrics=[\"accuracy\"])"
      ],
      "metadata": {
        "execution": {
          "iopub.status.busy": "2023-03-03T18:47:44.475861Z",
          "iopub.execute_input": "2023-03-03T18:47:44.476188Z",
          "iopub.status.idle": "2023-03-03T18:47:44.50625Z",
          "shell.execute_reply.started": "2023-03-03T18:47:44.476155Z",
          "shell.execute_reply": "2023-03-03T18:47:44.50527Z"
        },
        "trusted": true,
        "id": "pPD4Ew38MFMr"
      },
      "execution_count": 99,
      "outputs": []
    },
    {
      "cell_type": "code",
      "source": [
        "his = model.fit(data_array,\n",
        "                target_array,\n",
        "                epochs=20,\n",
        "                callbacks=[check],\n",
        "                validation_data=(val_data,val_target),\n",
        "                batch_size=120)"
      ],
      "metadata": {
        "execution": {
          "iopub.status.busy": "2023-03-03T18:47:44.507668Z",
          "iopub.execute_input": "2023-03-03T18:47:44.508009Z",
          "iopub.status.idle": "2023-03-03T18:51:08.296025Z",
          "shell.execute_reply.started": "2023-03-03T18:47:44.507959Z",
          "shell.execute_reply": "2023-03-03T18:51:08.294477Z"
        },
        "collapsed": true,
        "jupyter": {
          "outputs_hidden": true
        },
        "trusted": true,
        "id": "gub62JgmMFMr",
        "colab": {
          "base_uri": "https://localhost:8080/"
        },
        "outputId": "8a4d463b-e617-4bff-d672-487359aff576"
      },
      "execution_count": 100,
      "outputs": [
        {
          "output_type": "stream",
          "name": "stdout",
          "text": [
            "Epoch 1/20\n",
            "223/223 [==============================] - ETA: 0s - loss: 1.7822 - accuracy: 0.2756\n",
            "Epoch 1: val_accuracy improved from inf to 0.36000, saving model to modelcheckpoint\n",
            "223/223 [==============================] - 314s 1s/step - loss: 1.7822 - accuracy: 0.2756 - val_loss: 1.8698 - val_accuracy: 0.3600\n",
            "Epoch 2/20\n",
            "223/223 [==============================] - ETA: 0s - loss: 1.5119 - accuracy: 0.4168\n",
            "Epoch 2: val_accuracy did not improve from 0.36000\n",
            "223/223 [==============================] - 307s 1s/step - loss: 1.5119 - accuracy: 0.4168 - val_loss: 1.6703 - val_accuracy: 0.3980\n",
            "Epoch 3/20\n",
            "223/223 [==============================] - ETA: 0s - loss: 1.3704 - accuracy: 0.4776\n",
            "Epoch 3: val_accuracy did not improve from 0.36000\n",
            "223/223 [==============================] - 310s 1s/step - loss: 1.3704 - accuracy: 0.4776 - val_loss: 1.3664 - val_accuracy: 0.5115\n",
            "Epoch 4/20\n",
            "223/223 [==============================] - ETA: 0s - loss: 1.2859 - accuracy: 0.5142\n",
            "Epoch 4: val_accuracy did not improve from 0.36000\n",
            "223/223 [==============================] - 311s 1s/step - loss: 1.2859 - accuracy: 0.5142 - val_loss: 1.2847 - val_accuracy: 0.5280\n",
            "Epoch 5/20\n",
            "223/223 [==============================] - ETA: 0s - loss: 1.2297 - accuracy: 0.5351\n",
            "Epoch 5: val_accuracy did not improve from 0.36000\n",
            "223/223 [==============================] - 306s 1s/step - loss: 1.2297 - accuracy: 0.5351 - val_loss: 1.2137 - val_accuracy: 0.5445\n",
            "Epoch 6/20\n",
            "223/223 [==============================] - ETA: 0s - loss: 1.1862 - accuracy: 0.5513\n",
            "Epoch 6: val_accuracy did not improve from 0.36000\n",
            "223/223 [==============================] - 310s 1s/step - loss: 1.1862 - accuracy: 0.5513 - val_loss: 1.1780 - val_accuracy: 0.5565\n",
            "Epoch 7/20\n",
            "223/223 [==============================] - ETA: 0s - loss: 1.1365 - accuracy: 0.5726\n",
            "Epoch 7: val_accuracy did not improve from 0.36000\n",
            "223/223 [==============================] - 309s 1s/step - loss: 1.1365 - accuracy: 0.5726 - val_loss: 1.1634 - val_accuracy: 0.5665\n",
            "Epoch 8/20\n",
            "223/223 [==============================] - ETA: 0s - loss: 1.0989 - accuracy: 0.5897\n",
            "Epoch 8: val_accuracy did not improve from 0.36000\n",
            "223/223 [==============================] - 312s 1s/step - loss: 1.0989 - accuracy: 0.5897 - val_loss: 1.1419 - val_accuracy: 0.5710\n",
            "Epoch 9/20\n",
            "223/223 [==============================] - ETA: 0s - loss: 1.0642 - accuracy: 0.6041\n",
            "Epoch 9: val_accuracy did not improve from 0.36000\n",
            "223/223 [==============================] - 311s 1s/step - loss: 1.0642 - accuracy: 0.6041 - val_loss: 1.1468 - val_accuracy: 0.5675\n",
            "Epoch 10/20\n",
            "223/223 [==============================] - ETA: 0s - loss: 1.0304 - accuracy: 0.6139\n",
            "Epoch 10: val_accuracy did not improve from 0.36000\n",
            "223/223 [==============================] - 309s 1s/step - loss: 1.0304 - accuracy: 0.6139 - val_loss: 1.2143 - val_accuracy: 0.5485\n",
            "Epoch 11/20\n",
            "223/223 [==============================] - ETA: 0s - loss: 0.9961 - accuracy: 0.6270\n",
            "Epoch 11: val_accuracy did not improve from 0.36000\n",
            "223/223 [==============================] - 308s 1s/step - loss: 0.9961 - accuracy: 0.6270 - val_loss: 1.1361 - val_accuracy: 0.5775\n",
            "Epoch 12/20\n",
            "223/223 [==============================] - ETA: 0s - loss: 0.9586 - accuracy: 0.6397\n",
            "Epoch 12: val_accuracy did not improve from 0.36000\n",
            "223/223 [==============================] - 311s 1s/step - loss: 0.9586 - accuracy: 0.6397 - val_loss: 1.1476 - val_accuracy: 0.5790\n",
            "Epoch 13/20\n",
            "223/223 [==============================] - ETA: 0s - loss: 0.9224 - accuracy: 0.6551\n",
            "Epoch 13: val_accuracy did not improve from 0.36000\n",
            "223/223 [==============================] - 316s 1s/step - loss: 0.9224 - accuracy: 0.6551 - val_loss: 1.1502 - val_accuracy: 0.5730\n",
            "Epoch 14/20\n",
            "223/223 [==============================] - ETA: 0s - loss: 0.8853 - accuracy: 0.6730\n",
            "Epoch 14: val_accuracy did not improve from 0.36000\n",
            "223/223 [==============================] - 306s 1s/step - loss: 0.8853 - accuracy: 0.6730 - val_loss: 1.1230 - val_accuracy: 0.5865\n",
            "Epoch 15/20\n",
            "223/223 [==============================] - ETA: 0s - loss: 0.8559 - accuracy: 0.6796\n",
            "Epoch 15: val_accuracy did not improve from 0.36000\n",
            "223/223 [==============================] - 313s 1s/step - loss: 0.8559 - accuracy: 0.6796 - val_loss: 1.1471 - val_accuracy: 0.5970\n",
            "Epoch 16/20\n",
            "223/223 [==============================] - ETA: 0s - loss: 0.8232 - accuracy: 0.6936\n",
            "Epoch 16: val_accuracy did not improve from 0.36000\n",
            "223/223 [==============================] - 310s 1s/step - loss: 0.8232 - accuracy: 0.6936 - val_loss: 1.1690 - val_accuracy: 0.5735\n",
            "Epoch 17/20\n",
            "223/223 [==============================] - ETA: 0s - loss: 0.7949 - accuracy: 0.7058\n",
            "Epoch 17: val_accuracy did not improve from 0.36000\n",
            "223/223 [==============================] - 309s 1s/step - loss: 0.7949 - accuracy: 0.7058 - val_loss: 1.1811 - val_accuracy: 0.5710\n",
            "Epoch 18/20\n",
            "223/223 [==============================] - ETA: 0s - loss: 0.7563 - accuracy: 0.7196\n",
            "Epoch 18: val_accuracy did not improve from 0.36000\n",
            "223/223 [==============================] - 311s 1s/step - loss: 0.7563 - accuracy: 0.7196 - val_loss: 1.2197 - val_accuracy: 0.5730\n",
            "Epoch 19/20\n",
            "223/223 [==============================] - ETA: 0s - loss: 0.7336 - accuracy: 0.7264\n",
            "Epoch 19: val_accuracy did not improve from 0.36000\n",
            "223/223 [==============================] - 306s 1s/step - loss: 0.7336 - accuracy: 0.7264 - val_loss: 1.1649 - val_accuracy: 0.5720\n",
            "Epoch 20/20\n",
            "223/223 [==============================] - ETA: 0s - loss: 0.7115 - accuracy: 0.7361\n",
            "Epoch 20: val_accuracy did not improve from 0.36000\n",
            "223/223 [==============================] - 309s 1s/step - loss: 0.7115 - accuracy: 0.7361 - val_loss: 1.2076 - val_accuracy: 0.5775\n"
          ]
        }
      ]
    },
    {
      "cell_type": "code",
      "source": [
        "plt.style.use(\"dark_background\")"
      ],
      "metadata": {
        "execution": {
          "iopub.status.busy": "2023-03-03T18:51:08.297682Z",
          "iopub.execute_input": "2023-03-03T18:51:08.298184Z",
          "iopub.status.idle": "2023-03-03T18:51:08.304289Z",
          "shell.execute_reply.started": "2023-03-03T18:51:08.298142Z",
          "shell.execute_reply": "2023-03-03T18:51:08.303114Z"
        },
        "trusted": true,
        "id": "HY_pT3IkMFMr"
      },
      "execution_count": 101,
      "outputs": []
    },
    {
      "cell_type": "code",
      "source": [
        "history_data = pd.DataFrame(his.history)"
      ],
      "metadata": {
        "execution": {
          "iopub.status.busy": "2023-03-03T18:51:08.306192Z",
          "iopub.execute_input": "2023-03-03T18:51:08.306628Z",
          "iopub.status.idle": "2023-03-03T18:51:08.315352Z",
          "shell.execute_reply.started": "2023-03-03T18:51:08.306589Z",
          "shell.execute_reply": "2023-03-03T18:51:08.314427Z"
        },
        "trusted": true,
        "id": "4mpUWx84MFMr"
      },
      "execution_count": 102,
      "outputs": []
    },
    {
      "cell_type": "code",
      "source": [
        "plt.figure(figsize=(15,8))\n",
        "history_data.plot()\n",
        "plt.show()"
      ],
      "metadata": {
        "execution": {
          "iopub.status.busy": "2023-03-03T18:51:08.316839Z",
          "iopub.execute_input": "2023-03-03T18:51:08.317216Z",
          "iopub.status.idle": "2023-03-03T18:51:08.625069Z",
          "shell.execute_reply.started": "2023-03-03T18:51:08.317181Z",
          "shell.execute_reply": "2023-03-03T18:51:08.62406Z"
        },
        "trusted": true,
        "id": "YvRyRMJWMFMr",
        "colab": {
          "base_uri": "https://localhost:8080/",
          "height": 448
        },
        "outputId": "1c4fa5f1-d7b6-42d2-8154-c59217127417"
      },
      "execution_count": 103,
      "outputs": [
        {
          "output_type": "display_data",
          "data": {
            "text/plain": [
              "<Figure size 1500x800 with 0 Axes>"
            ]
          },
          "metadata": {}
        },
        {
          "output_type": "display_data",
          "data": {
            "text/plain": [
              "<Figure size 640x480 with 1 Axes>"
            ],
            "image/png": "[encoded data removed]"
          },
          "metadata": {}
        }
      ]
    },
    {
      "cell_type": "code",
      "source": [
        "plt.figure(figsize=(15,8))\n",
        "plt.plot(his.history[\"accuracy\"],label=\"TRAINING ACCURACY\",marker=\"o\")\n",
        "plt.plot(his.history[\"val_accuracy\"],label=\"VALIDATION ACCURACY\",marker=\"o\")\n",
        "plt.xlabel(\"EPOCH\")\n",
        "plt.ylabel(\"ACCURACY\")\n",
        "plt.title(\"ACCURACY CONTROL\")\n",
        "plt.legend()\n",
        "plt.show()"
      ],
      "metadata": {
        "execution": {
          "iopub.status.busy": "2023-03-03T18:51:08.629073Z",
          "iopub.execute_input": "2023-03-03T18:51:08.631631Z",
          "iopub.status.idle": "2023-03-03T18:51:09.268858Z",
          "shell.execute_reply.started": "2023-03-03T18:51:08.631595Z",
          "shell.execute_reply": "2023-03-03T18:51:09.26793Z"
        },
        "trusted": true,
        "id": "7y14QBmrMFMs",
        "colab": {
          "base_uri": "https://localhost:8080/",
          "height": 718
        },
        "outputId": "d4deca48-27f0-405d-f64e-2d730de96523"
      },
      "execution_count": 104,
      "outputs": [
        {
          "output_type": "display_data",
          "data": {
            "text/plain": [
              "<Figure size 1500x800 with 1 Axes>"
            ],
            "image/png": "[encoded data removed]"
          },
          "metadata": {}
        }
      ]
    },
    {
      "cell_type": "code",
      "source": [
        "model.save(\"testmodel.h5\")"
      ],
      "metadata": {
        "execution": {
          "iopub.status.busy": "2023-03-03T18:51:09.269844Z",
          "iopub.execute_input": "2023-03-03T18:51:09.270185Z",
          "iopub.status.idle": "2023-03-03T18:51:09.350421Z",
          "shell.execute_reply.started": "2023-03-03T18:51:09.270152Z",
          "shell.execute_reply": "2023-03-03T18:51:09.349493Z"
        },
        "trusted": true,
        "id": "3pc00muQMFMs",
        "colab": {
          "base_uri": "https://localhost:8080/"
        },
        "outputId": "5473c250-3518-44ec-e59f-b12a1f929ad0"
      },
      "execution_count": 105,
      "outputs": [
        {
          "output_type": "stream",
          "name": "stderr",
          "text": [
            "/usr/local/lib/python3.10/dist-packages/keras/src/engine/training.py:3103: UserWarning: You are saving your model as an HDF5 file via `model.save()`. This file format is considered legacy. We recommend using instead the native Keras format, e.g. `model.save('my_model.keras')`.\n",
            "  saving_api.save_model(\n"
          ]
        }
      ]
    }
  ]
}